{
 "cells": [
  {
   "cell_type": "code",
   "execution_count": 1,
   "id": "dc8bb405",
   "metadata": {},
   "outputs": [],
   "source": [
    "import mysql.connector as connector"
   ]
  },
  {
   "cell_type": "code",
   "execution_count": 2,
   "id": "cf6ab3a5",
   "metadata": {},
   "outputs": [],
   "source": [
    "import mysql.connector\n",
    "\n",
    "# Connect to MySQL\n",
    "conn = mysql.connector.connect(\n",
    "    host=\"localhost\",        # or your host\n",
    "    user=\"root\",    # replace with your MySQL username\n",
    "    password=\"password\",# replace with your MySQL password\n",
    "    database=\"little_lemon_db\"  # this selects the DB to use\n",
    ")\n",
    "\n",
    "\n"
   ]
  },
  {
   "cell_type": "code",
   "execution_count": 3,
   "id": "fd88690d",
   "metadata": {},
   "outputs": [],
   "source": [
    "cursor = conn.cursor()"
   ]
  },
  {
   "cell_type": "code",
   "execution_count": null,
   "id": "23e77f8b",
   "metadata": {},
   "outputs": [],
   "source": [
    "# Now you can run queries\n",
    "cursor.execute(\"SHOW TABLES;\")\n"
   ]
  },
  {
   "cell_type": "code",
   "execution_count": null,
   "id": "e2fd19da",
   "metadata": {},
   "outputs": [],
   "source": [
    "for row in cursor.fetchall():\n",
    "    print(row)"
   ]
  },
  {
   "cell_type": "code",
   "execution_count": 6,
   "id": "a0f59511",
   "metadata": {},
   "outputs": [],
   "source": [
    "query = \"\"\"\n",
    "    SELECT \n",
    "        c.Name,\n",
    "        c.Phone,\n",
    "        c.Email,\n",
    "        o.BillAmount\n",
    "    FROM \n",
    "        customers c\n",
    "    JOIN \n",
    "        orders o ON c.CustomerID = o.CustomerID\n",
    "    WHERE \n",
    "        o.BillAmount > 60;\n",
    "\"\"\""
   ]
  },
  {
   "cell_type": "code",
   "execution_count": 7,
   "id": "430c6dbd",
   "metadata": {},
   "outputs": [],
   "source": [
    "cursor.execute(query)"
   ]
  },
  {
   "cell_type": "code",
   "execution_count": 9,
   "id": "8aa83ea7",
   "metadata": {},
   "outputs": [
    {
     "name": "stdout",
     "output_type": "stream",
     "text": [
      "('Bob Johnson', '2202222', 'bob@example.com', Decimal('129.87'))\n",
      "('Alice Morgan', '555-123-4567', 'alice.morgan@example.com', Decimal('142.09'))\n",
      "('Brian Thompson', '555-234-5678', 'brian.thompson@example.com', Decimal('86.50'))\n",
      "('David Lee', '555-456-7890', 'david.lee@example.com', Decimal('73.28'))\n",
      "('Elena Cruz', '555-567-8901', 'elena.cruz@example.com', Decimal('145.00'))\n",
      "('Frank Diaz', '555-678-9012', 'frank.diaz@example.com', Decimal('66.60'))\n",
      "('Grace Patel', '555-789-0123', 'grace.patel@example.com', Decimal('120.49'))\n"
     ]
    }
   ],
   "source": [
    "    for row in cursor.fetchall():\n",
    "        print(row)"
   ]
  },
  {
   "cell_type": "code",
   "execution_count": 10,
   "id": "f4fe7623",
   "metadata": {},
   "outputs": [
    {
     "data": {
      "text/plain": [
       "<bound method CMySQLConnection.close of <mysql.connector.connection_cext.CMySQLConnection object at 0x000001513EF36660>>"
      ]
     },
     "execution_count": 10,
     "metadata": {},
     "output_type": "execute_result"
    }
   ],
   "source": [
    "cursor.close\n",
    "conn.close"
   ]
  }
 ],
 "metadata": {
  "kernelspec": {
   "display_name": "Python 3",
   "language": "python",
   "name": "python3"
  },
  "language_info": {
   "codemirror_mode": {
    "name": "ipython",
    "version": 3
   },
   "file_extension": ".py",
   "mimetype": "text/x-python",
   "name": "python",
   "nbconvert_exporter": "python",
   "pygments_lexer": "ipython3",
   "version": "3.13.3"
  }
 },
 "nbformat": 4,
 "nbformat_minor": 5
}
