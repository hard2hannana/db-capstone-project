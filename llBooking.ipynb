{
 "cells": [
  {
   "cell_type": "code",
   "execution_count": 2,
   "id": "dc8bb405",
   "metadata": {},
   "outputs": [],
   "source": [
    "import mysql.connector as connector"
   ]
  },
  {
   "cell_type": "code",
   "execution_count": null,
   "id": "cf6ab3a5",
   "metadata": {},
   "outputs": [],
   "source": [
    "import mysql.connector\n",
    "\n",
    "# Connect to MySQL\n",
    "conn = mysql.connector.connect(\n",
    "    host=\"localhost\",        # or your host\n",
    "    user=\"root\",    # replace with your MySQL username\n",
    "    password=\"password\",# replace with your MySQL password\n",
    "    database=\"little_lemon_db\"  # this selects the DB to use\n",
    ")\n",
    "\n",
    "\n"
   ]
  },
  {
   "cell_type": "code",
   "execution_count": 5,
   "id": "fd88690d",
   "metadata": {},
   "outputs": [
    {
     "name": "stdout",
     "output_type": "stream",
     "text": [
      "(5, 1, None, datetime.datetime(2022, 10, 10, 0, 0), None, None, None, 5)\n",
      "(7, 2, None, datetime.datetime(2022, 10, 12, 0, 0), None, None, None, 2)\n",
      "(8, 1, None, datetime.datetime(2022, 10, 13, 0, 0), None, None, None, 2)\n",
      "(9, None, None, datetime.datetime(2022, 10, 13, 0, 0), None, None, 'Confirmed', 2)\n",
      "(10, None, None, datetime.datetime(2022, 10, 13, 0, 0), None, None, 'Confirmed', 1)\n",
      "(11, 1, None, datetime.datetime(2022, 10, 13, 0, 0), None, None, None, 5)\n"
     ]
    }
   ],
   "source": [
    "cursor = conn.cursor()\n",
    "\n",
    "# Now you can run queries\n",
    "cursor.execute(\"SELECT * FROM bookings;\")\n",
    "for row in cursor.fetchall():\n",
    "    print(row)\n",
    "\n",
    "cursor.close()\n",
    "conn.close()"
   ]
  }
 ],
 "metadata": {
  "kernelspec": {
   "display_name": "Python 3",
   "language": "python",
   "name": "python3"
  },
  "language_info": {
   "codemirror_mode": {
    "name": "ipython",
    "version": 3
   },
   "file_extension": ".py",
   "mimetype": "text/x-python",
   "name": "python",
   "nbconvert_exporter": "python",
   "pygments_lexer": "ipython3",
   "version": "3.13.3"
  }
 },
 "nbformat": 4,
 "nbformat_minor": 5
}
